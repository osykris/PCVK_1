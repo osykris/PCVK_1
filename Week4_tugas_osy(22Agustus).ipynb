{
  "nbformat": 4,
  "nbformat_minor": 0,
  "metadata": {
    "colab": {
      "name": "Week4_tugas_osy(22Agustus).ipynb",
      "provenance": [],
      "authorship_tag": "ABX9TyPc9SbUVjQ5fL0dU03Zg45a",
      "include_colab_link": true
    },
    "kernelspec": {
      "name": "python3",
      "display_name": "Python 3"
    },
    "language_info": {
      "name": "python"
    }
  },
  "cells": [
    {
      "cell_type": "markdown",
      "metadata": {
        "id": "view-in-github",
        "colab_type": "text"
      },
      "source": [
        "<a href=\"https://colab.research.google.com/github/osykris/PCVK_1/blob/main/Week4_tugas_osy(22Agustus).ipynb\" target=\"_parent\"><img src=\"https://colab.research.google.com/assets/colab-badge.svg\" alt=\"Open In Colab\"/></a>"
      ]
    },
    {
      "cell_type": "code",
      "execution_count": null,
      "metadata": {
        "id": "XY-tFjFPjB4E"
      },
      "outputs": [],
      "source": [
        ""
      ]
    }
  ]
}