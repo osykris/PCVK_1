{
  "nbformat": 4,
  "nbformat_minor": 0,
  "metadata": {
    "colab": {
      "name": "Week1_osy.ipynb",
      "provenance": [],
      "authorship_tag": "ABX9TyN55/KDw1m9g9Ii+XyC7L72",
      "include_colab_link": true
    },
    "kernelspec": {
      "name": "python3",
      "display_name": "Python 3"
    },
    "language_info": {
      "name": "python"
    }
  },
  "cells": [
    {
      "cell_type": "markdown",
      "metadata": {
        "id": "view-in-github",
        "colab_type": "text"
      },
      "source": [
        "<a href=\"https://colab.research.google.com/github/osykris/PCVK_1/blob/main/Week1_osy.ipynb\" target=\"_parent\"><img src=\"https://colab.research.google.com/assets/colab-badge.svg\" alt=\"Open In Colab\"/></a>"
      ]
    },
    {
      "cell_type": "code",
      "execution_count": null,
      "metadata": {
        "id": "JF3FF_Rpsm6Y"
      },
      "outputs": [],
      "source": [
        "import numpy as np\n",
        "import pandas as pd\n",
        "import cv2 as cv\n",
        "from google.colab.patches import cv2_inshow\n",
        "from skimage import io\n",
        "from skimage import transform\n",
        "from PIL import Image\n",
        "import matplotlib.pylab as plt\n",
        "\n",
        "#Membuat list untuk menyimpan url dari beberapa image\n",
        "urls = [\"https://iiif.lib.ncsu.edu/iiif/0052574/full/800,/0/default.jpg\",\n",
        "        \"https://iiif.lib.ncsu.edu/iiif/0016007/full/800,/0/defatlt.jpg\",\n",
        "        \"https://placekitten.com/800/571\"]\n",
        "#baca dan tampilkan image\n",
        "#lopp pada tiap url image, beberapa image dapat disimpan pada list\n",
        "for url ini urls\n",
        "  image = io.imread\n",
        "  image = cv.resize(image, (0,0), fx=0, fy=0.5)\n",
        "  image_2 = cv.cvtColor(image, cv.COLOR_BGR2RBG)\n",
        "  final_frame = cv.hconcat((image, image_2))\n",
        "  print('\\n')"
      ]
    }
  ]
}